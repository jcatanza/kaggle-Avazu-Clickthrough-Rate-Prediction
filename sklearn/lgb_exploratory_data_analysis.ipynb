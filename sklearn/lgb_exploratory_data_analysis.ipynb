{
 "cells": [
  {
   "cell_type": "markdown",
   "metadata": {},
   "source": [
    "# Exploratory Data Analysis...\n",
    "## Histograms of category click rates for each feature\n",
    "### We're looking for features with well-sampled categories that show significant variation in click rate. We expect such features to be useful to help predict click rates in new data.\n",
    "### Categories of a feature with high cardinality tend to be sparsely sampled, so variations in category click rate may not be significant. For this reason, we limit our attention to features with relatively low cardinality -- up to a few dozen or so categories.\n",
    "### Unfortunately, it seems that click rates are too noisy to be of any use in prediction...\n"
   ]
  },
  {
   "cell_type": "code",
   "execution_count": 31,
   "metadata": {},
   "outputs": [
    {
     "name": "stdout",
     "output_type": "stream",
     "text": [
      "adding engineered datetime features...\n",
      "{'click': 2, 'hour': 24, 'C1': 7, 'banner_pos': 7, 'site_id': 1445, 'site_domain': 1304, 'site_category': 18, 'app_id': 1276, 'app_domain': 91, 'app_category': 21, 'device_id': 17070, 'device_ip': 77873, 'device_model': 3123, 'device_type': 5, 'device_conn_type': 4, 'C14': 1735, 'C15': 8, 'C16': 9, 'C17': 399, 'C18': 4, 'C19': 63, 'C20': 155, 'C21': 60, 'dayoftheweek': 7}\n"
     ]
    }
   ],
   "source": [
    "\n",
    "# Avazu competitition using pandas and sklearn library\n",
    "import numpy as np\n",
    "import pandas as pd\n",
    "import lightgbm as lgb\n",
    "import matplotlib.pyplot as plt\n",
    "import category_encoders as ce\n",
    "import copy\n",
    "import pickle\n",
    "import gc\n",
    "#import xlearn as xl\n",
    "%matplotlib inline\n",
    "from datetime import datetime, date, time\n",
    "from sklearn.linear_model import SGDClassifier\n",
    "from sklearn.tree import DecisionTreeClassifier\n",
    "from sklearn.metrics import log_loss\n",
    "from sklearn.feature_extraction import FeatureHasher\n",
    "from sklearn import preprocessing \n",
    "from sklearn.pipeline import Pipeline\n",
    "from sklearn import model_selection\n",
    "from sklearn.linear_model import LogisticRegression\n",
    "from sklearn.externals import joblib\n",
    "from sklearn.model_selection import GridSearchCV\n",
    "from sklearn.metrics import classification_report\n",
    "from xgboost import XGBClassifier #note: activate the xgboost environment\n",
    "from lightgbm import LGBMClassifier\n",
    "\n",
    "\n",
    "# set control parameters\n",
    "\n",
    "important_columns = []\n",
    "\n",
    "# set the number of hash bins\n",
    "# 2**27 gets same result as 2**29, 2**30 produces memory error\n",
    "n_features = 2**20\n",
    "#n_features = 2**16\n",
    "\n",
    "# method of handling categoricals: 'encode' or 'hash'\n",
    "# categorical_method='encode'\n",
    "\n",
    "# chunk_size\n",
    "chunk_size= 1e5\n",
    "\n",
    "# feature columns to drop\n",
    "drop_columns = [[]]\n",
    "drop_column = drop_columns[0]\n",
    "\n",
    "# file and folder paths\n",
    "train_file = 'train_shuffled.csv' #!!!!! no header\n",
    "# train_file = 'train.csv'\n",
    "model_path = './'\n",
    "\n",
    "# number of training examples\n",
    "n_rows = chunk_size\n",
    "\n",
    "# seed for random generator\n",
    "seed = 99\n",
    "\n",
    "# option to archive model\n",
    "archive_model = True\n",
    "\n",
    "# set start time\n",
    "start = datetime.now()\n",
    "\n",
    "# column names in original data file\n",
    "header = ['id','click','hour','C1','banner_pos','site_id','site_domain','site_category','app_id','app_domain','app_category','device_id',\\\n",
    "        'device_ip','device_model','device_type','device_conn_type','C14','C15','C16','C17','C18','C19','C20','C21']\n",
    "\n",
    "# list of regularization hyperparameter values\n",
    "# C_range = [1]\n",
    "\n",
    "# select classifier\n",
    "classifier = 'lgb'\n",
    "\n",
    "# Option to tune the hyperparameters by cross-validation\n",
    "cv_tune = False\n",
    "\n",
    "#scale_pos_weight = sum(y_train==0)/sum(y_train==1)\n",
    "scale_pos_weight = 1\n",
    "\n",
    "# set model parameters\n",
    "params = {}\n",
    "params['boosting_type'] = 'gbdt'\n",
    "params['objective'] = 'binary'\n",
    "params['metric'] = 'binary_logloss'\n",
    "# params['num_iterations'] = 100 # default\n",
    "params['feature_fraction'] = 0.5\n",
    "params['bagging_fraction'] = 0.5\n",
    "params['bagging_freq'] = 1\n",
    "params['num_threads'] = 4 # number of CPUs\n",
    "params['is_unbalance'] = False\n",
    "params['max_bin'] = n_features\n",
    "params['importance_type'] = 'gain' \n",
    "#params['feature_name'] = 'auto' \n",
    "#params['categorical_feature'] = 'auto'\n",
    "#params['n_estimators'] = 300\n",
    "params['is_unbalance'] = False\n",
    "params['scale_pos_weight'] = 1\n",
    "\n",
    "# correction for unbalanced data only makes things worse!\n",
    "# neg to pos class ratio\n",
    "\n",
    "# fraction of training data to use \n",
    "train_frac = 0.8\n",
    "\n",
    "# read data and preprocess\n",
    "rawdata = pd.read_table(train_file, sep=',', chunksize=chunk_size, names=header,header=None,\\\n",
    "       nrows = n_rows).get_chunk()\n",
    "#rawdata  = pd.read_table(train_file, sep=',', chunksize=chunk_size, names=None, header=0,\\\n",
    "#       nrows = n_rows).get_chunk()\n",
    "\n",
    "# add hour and dayoftheweek features, drop 'id'\n",
    "add_engineered_datetime_features = True\n",
    "if(add_engineered_datetime_features): \n",
    "    print('adding engineered datetime features...')\n",
    "    rawdata['hour']=rawdata['hour'].map(lambda x: datetime.strptime(str(x),\"%y%m%d%H\"))\n",
    "    rawdata['dayoftheweek']=rawdata['hour'].map(lambda x:  x.weekday())\n",
    "    rawdata['hour']=rawdata['hour'].map(lambda x:  x.hour)\n",
    "rawdata.drop('id',axis=1,inplace=True)\n",
    "# feature cardinalities\n",
    "cardinality = {}\n",
    "for col in rawdata.columns.tolist():\n",
    "    cardinality[col]=len(rawdata[col].unique())\n",
    "print(cardinality)\n",
    "\n"
   ]
  },
  {
   "cell_type": "code",
   "execution_count": 37,
   "metadata": {},
   "outputs": [
    {
     "data": {
      "text/plain": [
       "<matplotlib.axes._subplots.AxesSubplot at 0x12cdaa20>"
      ]
     },
     "execution_count": 37,
     "metadata": {},
     "output_type": "execute_result"
    },
    {
     "data": {
      "image/png": "[encoded data removed]",
      "text/plain": [
       "<Figure size 432x432 with 1 Axes>"
      ]
     },
     "metadata": {},
     "output_type": "display_data"
    },
    {
     "data": {
      "image/png": "[encoded data removed]",
      "text/plain": [
       "<Figure size 432x432 with 3 Axes>"
      ]
     },
     "metadata": {},
     "output_type": "display_data"
    }
   ],
   "source": [
    "# mean click rate by hour -- not much variation,\n",
    "# perhaps it can be mildly predictive\n",
    "hs=rawdata.groupby('hour')['click'].mean()\n",
    "hs.plot(kind='barh', figsize=(6,6))\n",
    "\n",
    "# std dev of click rate by hour -- constant but very large!!\n",
    "hs=rawdata.groupby('hour')['click'].std()\n",
    "hs.plot(kind='barh', figsize=(6,6))\n",
    "\n",
    "\n",
    "# CTR by hour is noisy!\n",
    "f, (ax1, ax2) = plt.subplots(1, 2, sharey=True, figsize=(6,6))\n",
    "\n",
    "hs1=rawdata.groupby('hour')['click'].mean()\n",
    "ax1.barh(hs1.index,hs1.values)\n",
    "\n",
    "hs2=rawdata.groupby('hour')['click'].std()\n",
    "ax2.barh(hs2.index,hs2.values)\n",
    "\n",
    "\n"
   ]
  },
  {
   "cell_type": "code",
   "execution_count": 38,
   "metadata": {},
   "outputs": [
    {
     "data": {
      "text/plain": [
       "<matplotlib.axes._subplots.AxesSubplot at 0xc867da0>"
      ]
     },
     "execution_count": 38,
     "metadata": {},
     "output_type": "execute_result"
    },
    {
     "data": {
      "image/png": "[encoded data removed]",
      "text/plain": [
       "<Figure size 432x432 with 1 Axes>"
      ]
     },
     "metadata": {},
     "output_type": "display_data"
    }
   ],
   "source": [
    "#SNR plot\n",
    "hs3=rawdata.groupby('hour')['click'].count()\n",
    "hs4 = (hs1/hs2)*np.sqrt(hs3)\n",
    "hs4.plot(kind='barh', figsize=(6,6))\n"
   ]
  },
  {
   "cell_type": "code",
   "execution_count": 41,
   "metadata": {},
   "outputs": [
    {
     "data": {
      "text/plain": [
       "<matplotlib.axes._subplots.AxesSubplot at 0x1472ef98>"
      ]
     },
     "execution_count": 41,
     "metadata": {},
     "output_type": "execute_result"
    },
    {
     "data": {
      "image/png": "[encoded data removed]",
      "text/plain": [
       "<Figure size 432x432 with 1 Axes>"
      ]
     },
     "metadata": {},
     "output_type": "display_data"
    }
   ],
   "source": [
    "# number of impressions shown by hour\n",
    "# is this solely determined by user actvity? \n",
    "# or is there a way the advertiser can control this?\n",
    "# !!!!!predictive\n",
    "hs=rawdata.groupby('hour')['click'].count()\n",
    "hs.plot(kind='barh', figsize=(6,6))\n"
   ]
  },
  {
   "cell_type": "code",
   "execution_count": 42,
   "metadata": {},
   "outputs": [
    {
     "data": {
      "text/plain": [
       "<matplotlib.axes._subplots.AxesSubplot at 0x1497bb00>"
      ]
     },
     "execution_count": 42,
     "metadata": {},
     "output_type": "execute_result"
    },
    {
     "data": {
      "image/png": "[encoded data removed]",
      "text/plain": [
       "<Figure size 432x432 with 1 Axes>"
      ]
     },
     "metadata": {},
     "output_type": "display_data"
    }
   ],
   "source": [
    "# click counts by hour -- as expected, correlates well with number of impressions shown\n",
    "# should be predictive\n",
    "hs=rawdata.groupby('hour')['click'].sum()\n",
    "hs.plot(kind='barh', figsize=(6,6))\n"
   ]
  },
  {
   "cell_type": "code",
   "execution_count": 43,
   "metadata": {},
   "outputs": [
    {
     "name": "stdout",
     "output_type": "stream",
     "text": [
      "dayoftheweek\n",
      "0    1537\n",
      "1    3813\n",
      "2    3527\n",
      "3    3502\n",
      "4    1483\n",
      "5    1525\n",
      "6    1716\n",
      "Name: click, dtype: int64\n"
     ]
    },
    {
     "data": {
      "image/png": "[encoded data removed]",
      "text/plain": [
       "<Figure size 432x432 with 2 Axes>"
      ]
     },
     "metadata": {},
     "output_type": "display_data"
    }
   ],
   "source": [
    "# dayofweek CTR is noisy\n",
    "f, (ax1, ax2) = plt.subplots(1, 2, sharey=True, figsize=(6,6))\n",
    "hs1=rawdata.groupby('dayoftheweek')['click'].mean()\n",
    "ax1.barh(hs1.index,hs1.values)\n",
    "hs2=rawdata.groupby('dayoftheweek')['click'].std()\n",
    "ax2.barh(hs2.index,hs2.values)\n",
    "\n",
    "\n",
    "# click rate by dayoftheweek\n",
    "#hs=rawdata.groupby('dayoftheweek')['click'].mean()\n",
    "#hs.plot(kind='barh', figsize=(6,6))\n",
    "\n",
    "# total clicks\n",
    "print(rawdata.groupby('dayoftheweek')['click'].sum())\n"
   ]
  },
  {
   "cell_type": "code",
   "execution_count": 45,
   "metadata": {},
   "outputs": [
    {
     "data": {
      "text/plain": [
       "<matplotlib.axes._subplots.AxesSubplot at 0x1264b6a0>"
      ]
     },
     "execution_count": 45,
     "metadata": {},
     "output_type": "execute_result"
    },
    {
     "data": {
      "image/png": "[encoded data removed]",
      "text/plain": [
       "<Figure size 432x432 with 1 Axes>"
      ]
     },
     "metadata": {},
     "output_type": "display_data"
    }
   ],
   "source": [
    "#SNR plot\n",
    "hs3=rawdata.groupby('dayoftheweek')['click'].count()\n",
    "hs4 = (hs1/hs2)*np.sqrt(hs3)\n",
    "hs4.plot(kind='barh', figsize=(6,6))\n"
   ]
  },
  {
   "cell_type": "code",
   "execution_count": 49,
   "metadata": {},
   "outputs": [
    {
     "name": "stdout",
     "output_type": "stream",
     "text": [
      "C1\n",
      "1001        0\n",
      "1002     1180\n",
      "1005    15660\n",
      "1007        4\n",
      "1008        1\n",
      "1010      207\n",
      "1012       51\n",
      "Name: click, dtype: int64\n"
     ]
    },
    {
     "data": {
      "image/png": "[encoded data removed]",
      "text/plain": [
       "<Figure size 432x432 with 2 Axes>"
      ]
     },
     "metadata": {},
     "output_type": "display_data"
    }
   ],
   "source": [
    "# C1 CTR is noisy\n",
    "f, (ax1, ax2) = plt.subplots(1, 2, sharey=True, figsize=(6,6))\n",
    "hs1=rawdata.groupby('C1')['click'].mean()\n",
    "ax1.barh(hs1.index,hs1.values)\n",
    "hs2=rawdata.groupby('C1')['click'].std()\n",
    "# Show \"standard error\" rather than \"standard deviation\"\n",
    "hs2a = hs2/np.sqrt(rawdata.groupby('C1')['click'].count())\n",
    "ax2.barh(hs2a.index,hs2a.values)\n",
    "\n",
    "\n",
    "# click rate by C1 category\n",
    "# to noisy to tell if it's predictive\n",
    "#hs=rawdata.groupby('C1')['click'].mean()\n",
    "#hs.plot(kind='barh', figsize=(6,6))\n",
    "# total clicks\n",
    "print(rawdata.groupby('C1')['click'].sum())\n"
   ]
  },
  {
   "cell_type": "code",
   "execution_count": 48,
   "metadata": {},
   "outputs": [
    {
     "data": {
      "text/plain": [
       "<matplotlib.axes._subplots.AxesSubplot at 0xcd86320>"
      ]
     },
     "execution_count": 48,
     "metadata": {},
     "output_type": "execute_result"
    },
    {
     "data": {
      "image/png": "[encoded data removed]",
      "text/plain": [
       "<Figure size 432x432 with 1 Axes>"
      ]
     },
     "metadata": {},
     "output_type": "display_data"
    }
   ],
   "source": [
    "#SNR plot shows that 1002 and 1005 have very strong signals\n",
    "hs3=rawdata.groupby('C1')['click'].count()\n",
    "hs4 = (hs1/hs2)*np.sqrt(hs3)\n",
    "hs4.plot(kind='barh', figsize=(6,6))\n"
   ]
  },
  {
   "cell_type": "code",
   "execution_count": 52,
   "metadata": {},
   "outputs": [
    {
     "name": "stdout",
     "output_type": "stream",
     "text": [
      "banner_pos\n",
      "0    11933\n",
      "1     5125\n",
      "2        5\n",
      "3        1\n",
      "4        5\n",
      "5        1\n",
      "7       33\n",
      "Name: click, dtype: int64\n"
     ]
    },
    {
     "data": {
      "image/png": "[encoded data removed]",
      "text/plain": [
       "<Figure size 432x432 with 2 Axes>"
      ]
     },
     "metadata": {},
     "output_type": "display_data"
    }
   ],
   "source": [
    "# bannerpos CTR is noisy\n",
    "f, (ax1, ax2) = plt.subplots(1, 2, sharey=True, figsize=(6,6))\n",
    "hs1=rawdata.groupby('banner_pos')['click'].mean()\n",
    "ax1.barh(hs1.index,hs1.values)\n",
    "hs2=rawdata.groupby('banner_pos')['click'].std()\n",
    "# Show \"standard error\" rather than \"standard deviation\"\n",
    "hs2a = hs2/np.sqrt(rawdata.groupby('banner_pos')['click'].count())\n",
    "ax2.barh(hs2a.index,hs2a.values)\n",
    "\n",
    "\n",
    "# click rate by banner_pos\n",
    "#hs=rawdata.groupby('banner_pos')['click'].mean()\n",
    "#hs.plot(kind='barh', figsize=(6,6))\n",
    "# total clicks\n",
    "print(rawdata.groupby('banner_pos')['click'].sum())\n"
   ]
  },
  {
   "cell_type": "code",
   "execution_count": 53,
   "metadata": {},
   "outputs": [
    {
     "data": {
      "text/plain": [
       "<matplotlib.axes._subplots.AxesSubplot at 0xd539198>"
      ]
     },
     "execution_count": 53,
     "metadata": {},
     "output_type": "execute_result"
    },
    {
     "data": {
      "image/png": "[encoded data removed]",
      "text/plain": [
       "<Figure size 432x432 with 1 Axes>"
      ]
     },
     "metadata": {},
     "output_type": "display_data"
    }
   ],
   "source": [
    "#SNR plot -- only positions 0 and 1 have strong signal\n",
    "hs3=rawdata.groupby('banner_pos')['click'].count()\n",
    "hs4 = (hs1/hs2)*np.sqrt(hs3)\n",
    "hs4.plot(kind='barh', figsize=(6,6))\n"
   ]
  },
  {
   "cell_type": "code",
   "execution_count": 55,
   "metadata": {},
   "outputs": [
    {
     "name": "stdout",
     "output_type": "stream",
     "text": [
      "site_category\n",
      "0569f928       1\n",
      "28905ebd    3899\n",
      "335d28a8      34\n",
      "3e814130    2129\n",
      "42a36e14       0\n",
      "50e219e0    5263\n",
      "5378d028       0\n",
      "70fb0e29      12\n",
      "72722551       5\n",
      "75fa27f6      44\n",
      "76b2941d       5\n",
      "8fd0aea4       1\n",
      "a818d37a       0\n",
      "bcf865d9       0\n",
      "c0dd3be3      11\n",
      "dedf689d      30\n",
      "f028772b    5651\n",
      "f66779e6      18\n",
      "Name: click, dtype: int64\n"
     ]
    },
    {
     "data": {
      "image/png": "[encoded data removed]",
      "text/plain": [
       "<Figure size 432x432 with 2 Axes>"
      ]
     },
     "metadata": {},
     "output_type": "display_data"
    }
   ],
   "source": [
    "# site_category CTR is noisy\n",
    "attr = 'site_category'\n",
    "f, (ax1, ax2) = plt.subplots(1, 2, sharey=True, figsize=(6,6))\n",
    "hs1=rawdata.groupby(attr)['click'].mean()\n",
    "ax1.barh(hs1.index,hs1.values)\n",
    "hs2=rawdata.groupby(attr)['click'].std()\n",
    "# Show \"standard error\" rather than \"standard deviation\"\n",
    "hs2a = hs2/np.sqrt(rawdata.groupby('site_category')['click'].count())\n",
    "ax2.barh(hs2a.index,hs2a.values)\n",
    "\n",
    "\n",
    "# click rate by site_category\n",
    "#hs=rawdata.groupby('site_category')['click'].mean()\n",
    "#hs.plot(kind='barh', figsize=(6,6))\n",
    "# total clicks\n",
    "print(rawdata.groupby('site_category')['click'].sum())\n"
   ]
  },
  {
   "cell_type": "code",
   "execution_count": 56,
   "metadata": {},
   "outputs": [
    {
     "data": {
      "text/plain": [
       "<matplotlib.axes._subplots.AxesSubplot at 0x12dc3dd8>"
      ]
     },
     "execution_count": 56,
     "metadata": {},
     "output_type": "execute_result"
    },
    {
     "data": {
      "image/png": "[encoded data removed]",
      "text/plain": [
       "<Figure size 432x432 with 1 Axes>"
      ]
     },
     "metadata": {},
     "output_type": "display_data"
    }
   ],
   "source": [
    "#SNR plot\n",
    "hs3=rawdata.groupby('site_category')['click'].count()\n",
    "hs4 = (hs1/hs2)*np.sqrt(hs3)\n",
    "hs4.plot(kind='barh', figsize=(6,6))\n"
   ]
  },
  {
   "cell_type": "code",
   "execution_count": 57,
   "metadata": {},
   "outputs": [
    {
     "name": "stdout",
     "output_type": "stream",
     "text": [
      "app_category\n",
      "07d7df22    13029\n",
      "09481d60       19\n",
      "0bfbc358        0\n",
      "0f2161f8     2576\n",
      "0f9a328c        0\n",
      "18b1e0be        0\n",
      "2281a340        0\n",
      "2fc4f2aa        1\n",
      "4681bb9d        2\n",
      "4ce2e9fc        6\n",
      "75d80bbe        9\n",
      "879c24eb        3\n",
      "8ded1f7a      329\n",
      "8df2e842        1\n",
      "a3c42688        0\n",
      "a86a3e89        0\n",
      "cef3e649      420\n",
      "d1327cf5       17\n",
      "dc97ec06       19\n",
      "f95efa07      667\n",
      "fc6fa53d        5\n",
      "Name: click, dtype: int64\n"
     ]
    },
    {
     "data": {
      "image/png": "[encoded data removed]",
      "text/plain": [
       "<Figure size 432x432 with 2 Axes>"
      ]
     },
     "metadata": {},
     "output_type": "display_data"
    }
   ],
   "source": [
    "# app_category CTR is noisy\n",
    "attr = 'app_category'\n",
    "f, (ax1, ax2) = plt.subplots(1, 2, sharey=True, figsize=(6,6))\n",
    "hs1=rawdata.groupby(attr)['click'].mean()\n",
    "ax1.barh(hs1.index,hs1.values)\n",
    "hs2=rawdata.groupby(attr)['click'].std()\n",
    "# Show \"standard error\" rather than \"standard deviation\"\n",
    "hs2a = hs2/np.sqrt(rawdata.groupby('app_category')['click'].count())\n",
    "ax2.barh(hs2a.index,hs2a.values)\n",
    "\n",
    "\n",
    "# click rate by app_category\n",
    "#hs=rawdata.groupby('app_category')['click'].mean()\n",
    "#hs.plot(kind='barh', figsize=(6,6))\n",
    "# total clicks\n",
    "print(rawdata.groupby('app_category')['click'].sum())\n"
   ]
  },
  {
   "cell_type": "code",
   "execution_count": 58,
   "metadata": {},
   "outputs": [
    {
     "data": {
      "text/plain": [
       "<matplotlib.axes._subplots.AxesSubplot at 0xe0e84a8>"
      ]
     },
     "execution_count": 58,
     "metadata": {},
     "output_type": "execute_result"
    },
    {
     "data": {
      "image/png": "[encoded data removed]",
      "text/plain": [
       "<Figure size 432x432 with 1 Axes>"
      ]
     },
     "metadata": {},
     "output_type": "display_data"
    }
   ],
   "source": [
    "#SNR plot -- there are certain app categories that are strongly predictive, \n",
    "#    because their click rates differ by a statistically significant amount\n",
    "hs3=rawdata.groupby('app_category')['click'].count()\n",
    "hs4 = (hs1/hs2)*np.sqrt(hs3)\n",
    "hs4.plot(kind='barh', figsize=(6,6))\n"
   ]
  },
  {
   "cell_type": "code",
   "execution_count": 59,
   "metadata": {},
   "outputs": [
    {
     "name": "stdout",
     "output_type": "stream",
     "text": [
      "device_type\n",
      "0     1180\n",
      "1    15715\n",
      "2        1\n",
      "4      178\n",
      "5       29\n",
      "Name: click, dtype: int64\n"
     ]
    },
    {
     "data": {
      "text/plain": [
       "<BarContainer object of 5 artists>"
      ]
     },
     "execution_count": 59,
     "metadata": {},
     "output_type": "execute_result"
    },
    {
     "data": {
      "image/png": "[encoded data removed]",
      "text/plain": [
       "<Figure size 432x432 with 2 Axes>"
      ]
     },
     "metadata": {},
     "output_type": "display_data"
    },
    {
     "data": {
      "image/png": "[encoded data removed]",
      "text/plain": [
       "<Figure size 432x432 with 2 Axes>"
      ]
     },
     "metadata": {},
     "output_type": "display_data"
    }
   ],
   "source": [
    "# device_type CTR is noisy\n",
    "attr = 'device_type'\n",
    "f, (ax1, ax2) = plt.subplots(1, 2, sharey=True, figsize=(6,6))\n",
    "hs1=rawdata.groupby(attr)['click'].mean()\n",
    "ax1.barh(hs1.index,hs1.values)\n",
    "hs2=rawdata.groupby(attr)['click'].std()\n",
    "# Show \"standard error\" rather than \"standard deviation\"\n",
    "hs2a = hs2/np.sqrt(rawdata.groupby('device_type')['click'].count())\n",
    "ax2.barh(hs2a.index,hs2a.values)\n",
    "\n",
    "\n",
    "# click rate by device_type\n",
    "#hs=rawdata.groupby('device_type')['click'].mean()\n",
    "#hs.plot(kind='barh', figsize=(6,6))\n",
    "# total clicks\n",
    "print(rawdata.groupby('device_type')['click'].sum())\n",
    "\n",
    "# device_type CTR is noisy\n",
    "attr = 'device_type'\n",
    "f, (ax1, ax2) = plt.subplots(1, 2, sharey=True, figsize=(6,6))\n",
    "hs1=rawdata.groupby(attr)['click'].mean()\n",
    "ax1.barh(hs1.index,hs1.values)\n",
    "hs2=rawdata.groupby(attr)['click'].mad()\n",
    "ax2.barh(hs2.index,hs2.values)\n"
   ]
  },
  {
   "cell_type": "code",
   "execution_count": 60,
   "metadata": {},
   "outputs": [
    {
     "data": {
      "text/plain": [
       "<matplotlib.axes._subplots.AxesSubplot at 0xc99e6a0>"
      ]
     },
     "execution_count": 60,
     "metadata": {},
     "output_type": "execute_result"
    },
    {
     "data": {
      "image/png": "[encoded data removed]",
      "text/plain": [
       "<Figure size 432x432 with 1 Axes>"
      ]
     },
     "metadata": {},
     "output_type": "display_data"
    }
   ],
   "source": [
    "#SNR plot -- categories 0 and 1 strongly predictive, \n",
    "#    because their click rates differ by a statistically significant amount\n",
    "hs3=rawdata.groupby('device_type')['click'].count()\n",
    "hs4 = (hs1/hs2)*np.sqrt(hs3)\n",
    "hs4.plot(kind='barh', figsize=(6,6))\n"
   ]
  },
  {
   "cell_type": "code",
   "execution_count": 61,
   "metadata": {},
   "outputs": [
    {
     "name": "stdout",
     "output_type": "stream",
     "text": [
      "device_conn_type\n",
      "0    15787\n",
      "2     1069\n",
      "3      245\n",
      "5        2\n",
      "Name: click, dtype: int64\n"
     ]
    },
    {
     "data": {
      "image/png": "[encoded data removed]",
      "text/plain": [
       "<Figure size 432x432 with 2 Axes>"
      ]
     },
     "metadata": {},
     "output_type": "display_data"
    }
   ],
   "source": [
    "# device_conn_type CTR is noisy\n",
    "attr = 'device_conn_type'\n",
    "f, (ax1, ax2) = plt.subplots(1, 2, sharey=True, figsize=(6,6))\n",
    "hs1=rawdata.groupby(attr)['click'].mean()\n",
    "ax1.barh(hs1.index,hs1.values)\n",
    "hs2=rawdata.groupby(attr)['click'].mad()\n",
    "# Show \"standard error\" rather than \"standard deviation\"\n",
    "hs2a = hs2/np.sqrt(rawdata.groupby('device_conn_type')['click'].count())\n",
    "ax2.barh(hs2a.index,hs2a.values)\n",
    "\n",
    "\n",
    "# click rate by device_conn_type\n",
    "#hs=rawdata.groupby('device_conn_type')['click'].mean()\n",
    "#hs.plot(kind='barh', figsize=(6,6))\n",
    "# total clicks\n",
    "print(rawdata.groupby('device_conn_type')['click'].sum())\n"
   ]
  },
  {
   "cell_type": "code",
   "execution_count": 62,
   "metadata": {},
   "outputs": [
    {
     "data": {
      "text/plain": [
       "<matplotlib.axes._subplots.AxesSubplot at 0x14790588>"
      ]
     },
     "execution_count": 62,
     "metadata": {},
     "output_type": "execute_result"
    },
    {
     "data": {
      "image/png": "[encoded data removed]",
      "text/plain": [
       "<Figure size 432x432 with 1 Axes>"
      ]
     },
     "metadata": {},
     "output_type": "display_data"
    }
   ],
   "source": [
    "#SNR plot -- categories 0, 2 and 3 are strongly predictive, \n",
    "#    because their click rates differ by a statistically significant amount\n",
    "hs3=rawdata.groupby('device_conn_type')['click'].count()\n",
    "hs4 = (hs1/hs2)*np.sqrt(hs3)\n",
    "hs4.plot(kind='barh', figsize=(6,6))\n"
   ]
  },
  {
   "cell_type": "code",
   "execution_count": 24,
   "metadata": {},
   "outputs": [
    {
     "name": "stdout",
     "output_type": "stream",
     "text": [
      "C14\n",
      "375       24\n",
      "377       20\n",
      "380       17\n",
      "381        5\n",
      "452       12\n",
      "454        6\n",
      "456        4\n",
      "463        8\n",
      "787        2\n",
      "1037       2\n",
      "1038       2\n",
      "1039       2\n",
      "1266       1\n",
      "1267       5\n",
      "1268       6\n",
      "1269       3\n",
      "1270       4\n",
      "1272       5\n",
      "1275       8\n",
      "1276      12\n",
      "1278       7\n",
      "4407       2\n",
      "4518       1\n",
      "4687     134\n",
      "6360       5\n",
      "6361       1\n",
      "6362       1\n",
      "6364       6\n",
      "6365      10\n",
      "6366       5\n",
      "        ... \n",
      "21674      3\n",
      "21675      5\n",
      "21676      3\n",
      "21677      4\n",
      "21678      7\n",
      "21679      3\n",
      "21680     12\n",
      "21681      6\n",
      "21682      4\n",
      "21683     13\n",
      "21684      5\n",
      "21685     11\n",
      "21687      5\n",
      "21688      6\n",
      "21689      8\n",
      "21691      8\n",
      "21692      0\n",
      "21693      1\n",
      "21694      0\n",
      "21695      0\n",
      "21696      0\n",
      "21697      0\n",
      "21698      1\n",
      "21699      0\n",
      "21700      2\n",
      "21701      1\n",
      "21702      0\n",
      "21703      0\n",
      "21704      1\n",
      "21705      0\n",
      "Name: click, Length: 420, dtype: int64\n"
     ]
    },
    {
     "data": {
      "image/png": "[encoded data removed]",
      "text/plain": [
       "<Figure size 432x432 with 2 Axes>"
      ]
     },
     "metadata": {},
     "output_type": "display_data"
    }
   ],
   "source": [
    "#!!!!! figure out how to display y-axis as category names, not numbers\n",
    "# C14 CTR is noisy\n",
    "attr = 'C14'\n",
    "f, (ax1, ax2) = plt.subplots(1, 2, sharey=True, figsize=(6,6))\n",
    "hs1=rawdata.groupby(attr)['click'].mean()\n",
    "ax1.barh(hs1.index,hs1.values)\n",
    "hs2=rawdata.groupby(attr)['click'].mad()\n",
    "ax2.barh(hs2.index,hs2.values)\n",
    "\n",
    "\n",
    "# click rate by C14\n",
    "#hs=rawdata.groupby('C14')['click'].mean()\n",
    "#hs.plot(kind='barh', figsize=(6,6))\n",
    "# total clicks\n",
    "print(rawdata.groupby('C14')['click'].sum())\n"
   ]
  },
  {
   "cell_type": "code",
   "execution_count": 66,
   "metadata": {},
   "outputs": [
    {
     "name": "stdout",
     "output_type": "stream",
     "text": [
      "C15\n",
      "120     0.000000\n",
      "216     0.115438\n",
      "300     0.358908\n",
      "320     0.160015\n",
      "480     0.333333\n",
      "728     0.037559\n",
      "768     0.000000\n",
      "1024    0.750000\n",
      "Name: click, dtype: float64 C15\n",
      "120     0.000000\n",
      "216     0.011925\n",
      "300     0.006285\n",
      "320     0.001201\n",
      "480     0.210819\n",
      "728     0.013058\n",
      "768     0.000000\n",
      "1024    0.250000\n",
      "Name: click, dtype: float64\n",
      "C15\n",
      "120         0\n",
      "216        83\n",
      "300      2091\n",
      "320     14916\n",
      "480         2\n",
      "728         8\n",
      "768         0\n",
      "1024        3\n",
      "Name: click, dtype: int64\n"
     ]
    },
    {
     "data": {
      "image/png": "[encoded data removed]",
      "text/plain": [
       "<Figure size 432x432 with 2 Axes>"
      ]
     },
     "metadata": {},
     "output_type": "display_data"
    }
   ],
   "source": [
    "#!!!!! figure out how to display y-axis as category names, not numbers\n",
    "# C15 CTR is noisy\n",
    "attr = 'C15'\n",
    "f, (ax1, ax2) = plt.subplots(1, 2, sharey=True, figsize=(6,6))\n",
    "hs1=rawdata.groupby(attr)['click'].mean()\n",
    "ax1.barh(hs1.index,hs1.values)\n",
    "hs2=rawdata.groupby(attr)['click'].std()\n",
    "# Show \"standard error\" rather than \"standard deviation\"\n",
    "hs2a = hs2/np.sqrt(rawdata.groupby('C15')['click'].count())\n",
    "ax2.barh(hs2a.index,hs2a.values)\n",
    "print(hs1,hs2a)\n",
    "\n",
    "# click rate by C15\n",
    "#hs=rawdata.groupby('C15')['click'].mean()\n",
    "#hs.plot(kind='barh', figsize=(6,6))\n",
    "# total clicks\n",
    "print(rawdata.groupby('C15')['click'].sum())\n"
   ]
  },
  {
   "cell_type": "code",
   "execution_count": 65,
   "metadata": {},
   "outputs": [
    {
     "data": {
      "text/plain": [
       "<matplotlib.axes._subplots.AxesSubplot at 0xc984898>"
      ]
     },
     "execution_count": 65,
     "metadata": {},
     "output_type": "execute_result"
    },
    {
     "data": {
      "image/png": "[encoded data removed]",
      "text/plain": [
       "<Figure size 432x432 with 1 Axes>"
      ]
     },
     "metadata": {},
     "output_type": "display_data"
    }
   ],
   "source": [
    "#SNR plot -- categories 300 and 320 are strongly predictive, \n",
    "#    because their click rates differ by a statistically significant amount\n",
    "hs3=rawdata.groupby('C15')['click'].count()\n",
    "hs4 = (hs1/hs2)*np.sqrt(hs3)\n",
    "hs4.plot(kind='barh', figsize=(6,6))\n"
   ]
  },
  {
   "cell_type": "code",
   "execution_count": 74,
   "metadata": {},
   "outputs": [
    {
     "name": "stdout",
     "output_type": "stream",
     "text": [
      "C16\n",
      "20         12\n",
      "36        719\n",
      "50      94395\n",
      "90        213\n",
      "250      4393\n",
      "320         6\n",
      "480       254\n",
      "768         4\n",
      "1024        4\n",
      "Name: click, dtype: int64\n",
      "C16\n",
      "20      0.000000\n",
      "36      0.115438\n",
      "50      0.159701\n",
      "90      0.037559\n",
      "250     0.428864\n",
      "320     0.333333\n",
      "480     0.188976\n",
      "768     0.750000\n",
      "1024    0.000000\n",
      "Name: click, dtype: float64\n",
      "C16\n",
      "20      0.000000\n",
      "36      0.011925\n",
      "50      0.001192\n",
      "90      0.013058\n",
      "250     0.007468\n",
      "320     0.210819\n",
      "480     0.024613\n",
      "768     0.250000\n",
      "1024    0.000000\n",
      "Name: click, dtype: float64\n"
     ]
    },
    {
     "data": {
      "image/png": "[encoded data removed]",
      "text/plain": [
       "<Figure size 432x432 with 2 Axes>"
      ]
     },
     "metadata": {},
     "output_type": "display_data"
    }
   ],
   "source": [
    "#!!!!! figure out how to display y-axis as category names, not numbers\n",
    "# C16 CTR is noisy\n",
    "attr = 'C16'\n",
    "f, (ax1, ax2) = plt.subplots(1, 2, sharey=True, figsize=(6,6))\n",
    "hs1=rawdata.groupby(attr)['click'].mean()\n",
    "ax1.barh(hs1.index,hs1.values)\n",
    "hs2=rawdata.groupby(attr)['click'].std()\n",
    "# Show \"standard error\" rather than \"standard deviation\"\n",
    "hs2a = hs2/np.sqrt(rawdata.groupby('C16')['click'].count())\n",
    "ax2.barh(hs2a.index,hs2a.values)\n",
    "\n",
    "\n",
    "# C16\n",
    "#hs=rawdata.groupby('C16')['click'].mean()\n",
    "#hs.plot(kind='barh', figsize=(6,6))\n",
    "# total clicks\n",
    "print(rawdata.groupby('C16')['click'].count())\n",
    "print(rawdata.groupby('C16')['click'].mean())\n",
    "print(hs2a)"
   ]
  },
  {
   "cell_type": "code",
   "execution_count": null,
   "metadata": {},
   "outputs": [],
   "source": [
    "#SNR plot -- categories 50 and 250 are strongly predictive, \n",
    "#    because their click rates differ by a statistically significant amount\n",
    "hs3=rawdata.groupby('C16')['click'].count()\n",
    "hs4 = (hs1/hs2)*np.sqrt(hs3)\n",
    "hs4.plot(kind='barh', figsize=(6,6))\n"
   ]
  },
  {
   "cell_type": "code",
   "execution_count": 26,
   "metadata": {},
   "outputs": [
    {
     "name": "stdout",
     "output_type": "stream",
     "text": [
      "C17\n",
      "112      66\n",
      "122      30\n",
      "153       2\n",
      "178       6\n",
      "196      51\n",
      "394       3\n",
      "423     134\n",
      "544      28\n",
      "547       9\n",
      "549       6\n",
      "550       1\n",
      "571     100\n",
      "572      42\n",
      "576     128\n",
      "613      19\n",
      "686       0\n",
      "768       0\n",
      "827       2\n",
      "898       2\n",
      "901       0\n",
      "906       3\n",
      "937       2\n",
      "1092     16\n",
      "1248     97\n",
      "1255      0\n",
      "1272     11\n",
      "1401      7\n",
      "1447      6\n",
      "1507      2\n",
      "1528      2\n",
      "       ... \n",
      "2351     61\n",
      "2371     93\n",
      "2372     35\n",
      "2374    511\n",
      "2390      1\n",
      "2394      0\n",
      "2397      0\n",
      "2424      3\n",
      "2425      1\n",
      "2427      8\n",
      "2434     22\n",
      "2438      1\n",
      "2443     12\n",
      "2446    292\n",
      "2449     32\n",
      "2459      0\n",
      "2465      0\n",
      "2467     13\n",
      "2471     11\n",
      "2476      2\n",
      "2478      4\n",
      "2480    134\n",
      "2481     12\n",
      "2482      0\n",
      "2483      0\n",
      "2485      8\n",
      "2493    188\n",
      "2495     38\n",
      "2496     65\n",
      "2497      6\n",
      "Name: click, Length: 128, dtype: int64\n"
     ]
    },
    {
     "data": {
      "image/png": "[encoded data removed]",
      "text/plain": [
       "<Figure size 432x432 with 2 Axes>"
      ]
     },
     "metadata": {},
     "output_type": "display_data"
    }
   ],
   "source": [
    "#!!!!! figure out how to display y-axis as category names, not numbers\n",
    "# C17 CTR is noisy\n",
    "attr = 'C17'\n",
    "f, (ax1, ax2) = plt.subplots(1, 2, sharey=True, figsize=(6,6))\n",
    "hs1=rawdata.groupby(attr)['click'].mean()\n",
    "ax1.barh(hs1.index,hs1.values)\n",
    "hs2=rawdata.groupby(attr)['click'].mad()\n",
    "ax2.barh(hs2.index,hs2.values)\n",
    "\n",
    "\n",
    "# click rate by C17\n",
    "#hs=rawdata.groupby('C17')['click'].mean()\n",
    "#hs.plot(kind='barh', figsize=(6,6))\n",
    "# total clicks\n",
    "print(rawdata.groupby('C17')['click'].sum())\n"
   ]
  },
  {
   "cell_type": "code",
   "execution_count": 77,
   "metadata": {},
   "outputs": [
    {
     "name": "stdout",
     "output_type": "stream",
     "text": [
      "C18\n",
      "0    6599\n",
      "1     222\n",
      "2    5247\n",
      "3    5035\n",
      "Name: click, dtype: int64\n"
     ]
    },
    {
     "data": {
      "image/png": "[encoded data removed]",
      "text/plain": [
       "<Figure size 432x432 with 2 Axes>"
      ]
     },
     "metadata": {},
     "output_type": "display_data"
    }
   ],
   "source": [
    "# C18 CTR is noisy\n",
    "attr = 'C18'\n",
    "f, (ax1, ax2) = plt.subplots(1, 2, sharey=True, figsize=(6,6))\n",
    "hs1=rawdata.groupby(attr)['click'].mean()\n",
    "ax1.barh(hs1.index,hs1.values)\n",
    "hs2=rawdata.groupby(attr)['click'].std()\n",
    "# Show \"standard error\" rather than \"standard deviation\"\n",
    "hs2a = hs2/np.sqrt(rawdata.groupby('C18')['click'].count())\n",
    "ax2.barh(hs2a.index,hs2a.values)\n",
    "\n",
    "\n",
    "# click rate by C18\n",
    "#hs=rawdata.groupby('C18')['click'].mean()\n",
    "#hs.plot(kind='barh', figsize=(6,6))\n",
    "# total clicks\n",
    "print(rawdata.groupby('C18')['click'].sum())"
   ]
  },
  {
   "cell_type": "code",
   "execution_count": 78,
   "metadata": {},
   "outputs": [
    {
     "name": "stdout",
     "output_type": "stream",
     "text": [
      "C18\n",
      "0    88.554330\n",
      "1    15.146770\n",
      "2    86.486792\n",
      "3    76.883817\n",
      "Name: click, dtype: float64\n"
     ]
    },
    {
     "data": {
      "image/png": "[encoded data removed]",
      "text/plain": [
       "<Figure size 432x432 with 1 Axes>"
      ]
     },
     "metadata": {},
     "output_type": "display_data"
    }
   ],
   "source": [
    "#SNR plot -- categories 0, 2, 3 are strongly predictive, \n",
    "#    because their click rates differ by a statistically significant amount\n",
    "hs3=rawdata.groupby('C18')['click'].count()\n",
    "hs4 = (hs1/hs2)*np.sqrt(hs3)\n",
    "hs4.plot(kind='barh', figsize=(6,6))\n",
    "print(hs4)"
   ]
  },
  {
   "cell_type": "code",
   "execution_count": 27,
   "metadata": {},
   "outputs": [
    {
     "name": "stdout",
     "output_type": "stream",
     "text": [
      "C19\n",
      "33         0\n",
      "35      9156\n",
      "39      4242\n",
      "41         7\n",
      "43        14\n",
      "47        78\n",
      "161       30\n",
      "163      169\n",
      "167      352\n",
      "169       10\n",
      "171      297\n",
      "175       25\n",
      "291        2\n",
      "297      177\n",
      "303      623\n",
      "423        3\n",
      "425        2\n",
      "427       58\n",
      "431      267\n",
      "551       93\n",
      "559        2\n",
      "673        3\n",
      "679        2\n",
      "681       42\n",
      "683        7\n",
      "687      306\n",
      "801        4\n",
      "813       35\n",
      "943        7\n",
      "1063    1295\n",
      "1071       2\n",
      "1315       0\n",
      "1319      96\n",
      "1327       6\n",
      "1451       3\n",
      "1711      59\n",
      "1835      16\n",
      "Name: click, dtype: int64\n"
     ]
    },
    {
     "data": {
      "image/png": "[encoded data removed]",
      "text/plain": [
       "<Figure size 432x432 with 2 Axes>"
      ]
     },
     "metadata": {},
     "output_type": "display_data"
    }
   ],
   "source": [
    "#!!!!! figure out how to display y-axis as category names, not numbers\n",
    "# C19 CTR is noisy\n",
    "attr = 'C19'\n",
    "f, (ax1, ax2) = plt.subplots(1, 2, sharey=True, figsize=(6,6))\n",
    "hs1=rawdata.groupby(attr)['click'].mean()\n",
    "ax1.barh(hs1.index,hs1.values)\n",
    "hs2=rawdata.groupby(attr)['click'].mad()\n",
    "ax2.barh(hs2.index,hs2.values)\n",
    "\n",
    "\n",
    "# click rate by C19\n",
    "#hs=rawdata.groupby('C19')['click'].mean()\n",
    "#hs.plot(kind='barh', figsize=(6,6))\n",
    "# total clicks\n",
    "print(rawdata.groupby('C19')['click'].sum())\n"
   ]
  },
  {
   "cell_type": "code",
   "execution_count": 28,
   "metadata": {},
   "outputs": [
    {
     "name": "stdout",
     "output_type": "stream",
     "text": [
      "C20\n",
      "-1         10982\n",
      " 100000       60\n",
      " 100001        2\n",
      " 100002        4\n",
      " 100003        1\n",
      " 100004        0\n",
      " 100005        2\n",
      " 100010        0\n",
      " 100012        0\n",
      " 100013        6\n",
      " 100016        0\n",
      " 100019       18\n",
      " 100020       34\n",
      " 100021       18\n",
      " 100022        2\n",
      " 100024        0\n",
      " 100025        2\n",
      " 100026        3\n",
      " 100028       42\n",
      " 100029        0\n",
      " 100034      136\n",
      " 100037        4\n",
      " 100039        8\n",
      " 100040        2\n",
      " 100041        1\n",
      " 100043        1\n",
      " 100046       29\n",
      " 100048       30\n",
      " 100049       15\n",
      " 100050       32\n",
      "           ...  \n",
      " 100176       10\n",
      " 100177        2\n",
      " 100183        3\n",
      " 100185        0\n",
      " 100188       15\n",
      " 100189        7\n",
      " 100190        0\n",
      " 100191       37\n",
      " 100192        3\n",
      " 100193        5\n",
      " 100194       33\n",
      " 100195        1\n",
      " 100199       12\n",
      " 100200       20\n",
      " 100202       11\n",
      " 100205        5\n",
      " 100206        8\n",
      " 100210       38\n",
      " 100212        2\n",
      " 100213        1\n",
      " 100215       20\n",
      " 100217       54\n",
      " 100221        8\n",
      " 100224        4\n",
      " 100225        3\n",
      " 100228      293\n",
      " 100229        1\n",
      " 100233       25\n",
      " 100241       11\n",
      " 100248       12\n",
      "Name: click, Length: 137, dtype: int64\n"
     ]
    },
    {
     "data": {
      "image/png": "[encoded data removed]",
      "text/plain": [
       "<Figure size 432x432 with 2 Axes>"
      ]
     },
     "metadata": {},
     "output_type": "display_data"
    }
   ],
   "source": [
    "#!!!!! figure out how to display y-axis as category names, not numbers\n",
    "# C20 CTR is noisy\n",
    "attr = 'C20'\n",
    "f, (ax1, ax2) = plt.subplots(1, 2, sharey=True, figsize=(6,6))\n",
    "hs1=rawdata.groupby(attr)['click'].mean()\n",
    "ax1.barh(hs1.index,hs1.values)\n",
    "hs2=rawdata.groupby(attr)['click'].mad()\n",
    "ax2.barh(hs2.index,hs2.values)\n",
    "\n",
    "\n",
    "# click rate by C20\n",
    "#hs=rawdata.groupby('C20')['click'].mean()\n",
    "#hs.plot(kind='barh', figsize=(6,6))\n",
    "# total clicks\n",
    "print(rawdata.groupby('C20')['click'].sum())\n"
   ]
  },
  {
   "cell_type": "code",
   "execution_count": 29,
   "metadata": {},
   "outputs": [
    {
     "name": "stdout",
     "output_type": "stream",
     "text": [
      "C21\n",
      "13      157\n",
      "15      167\n",
      "16      198\n",
      "20        2\n",
      "23     1649\n",
      "32      694\n",
      "33     2526\n",
      "42       17\n",
      "46      128\n",
      "48      374\n",
      "52      561\n",
      "61      321\n",
      "68        1\n",
      "70        2\n",
      "71       21\n",
      "79     7651\n",
      "82       31\n",
      "85        0\n",
      "91       73\n",
      "93        8\n",
      "94        7\n",
      "95       52\n",
      "100       7\n",
      "101      45\n",
      "111       2\n",
      "116       0\n",
      "117     447\n",
      "156     313\n",
      "157    2036\n",
      "Name: click, dtype: int64\n"
     ]
    },
    {
     "data": {
      "image/png": "[encoded data removed]",
      "text/plain": [
       "<Figure size 432x432 with 2 Axes>"
      ]
     },
     "metadata": {},
     "output_type": "display_data"
    }
   ],
   "source": [
    "#!!!!! figure out how to display y-axis as category names, not numbers\n",
    "# C21 CTR is noisy\n",
    "attr = 'C21'\n",
    "f, (ax1, ax2) = plt.subplots(1, 2, sharey=True, figsize=(6,6))\n",
    "hs1=rawdata.groupby(attr)['click'].mean()\n",
    "ax1.barh(hs1.index,hs1.values)\n",
    "hs2=rawdata.groupby(attr)['click'].mad()\n",
    "ax2.barh(hs2.index,hs2.values)\n",
    "\n",
    "\n",
    "# click rate by C21\n",
    "#hs=rawdata.groupby('C21')['click'].mean()\n",
    "#hs.plot(kind='barh', figsize=(6,6))\n",
    "# total clicks\n",
    "print(rawdata.groupby('C21')['click'].sum())\n"
   ]
  },
  {
   "cell_type": "code",
   "execution_count": 68,
   "metadata": {},
   "outputs": [
    {
     "name": "stdout",
     "output_type": "stream",
     "text": [
      "dayoftheweek\n",
      "0    1537\n",
      "1    3813\n",
      "2    3527\n",
      "3    3502\n",
      "4    1483\n",
      "5    1525\n",
      "6    1716\n",
      "Name: click, dtype: int64\n"
     ]
    },
    {
     "data": {
      "image/png": "[encoded data removed]",
      "text/plain": [
       "<Figure size 432x432 with 2 Axes>"
      ]
     },
     "metadata": {},
     "output_type": "display_data"
    }
   ],
   "source": [
    "#!!!!! figure out how to display y-axis as category names, not numbers\n",
    "# dayoftheweek CTR is noisy\n",
    "attr = 'dayoftheweek'\n",
    "f, (ax1, ax2) = plt.subplots(1, 2, sharey=True, figsize=(6,6))\n",
    "hs1=rawdata.groupby(attr)['click'].mean()\n",
    "ax1.barh(hs1.index,hs1.values)\n",
    "hs2=rawdata.groupby(attr)['click'].std()\n",
    "# Show \"standard error\" rather than \"standard deviation\"\n",
    "hs2a = hs2/np.sqrt(rawdata.groupby('dayoftheweek')['click'].count())\n",
    "ax2.barh(hs2a.index,hs2a.values)\n",
    "\n",
    "\n",
    "# click rate by dayoftheweek\n",
    "#hs=rawdata.groupby('dayoftheweek')['click'].mean()\n",
    "#hs.plot(kind='barh', figsize=(6,6))\n",
    "# total clicks\n",
    "print(rawdata.groupby('dayoftheweek')['click'].sum())\n"
   ]
  },
  {
   "cell_type": "code",
   "execution_count": 70,
   "metadata": {},
   "outputs": [
    {
     "data": {
      "text/plain": [
       "<matplotlib.axes._subplots.AxesSubplot at 0x125e87b8>"
      ]
     },
     "execution_count": 70,
     "metadata": {},
     "output_type": "execute_result"
    },
    {
     "data": {
      "image/png": "[encoded data removed]",
      "text/plain": [
       "<Figure size 432x432 with 1 Axes>"
      ]
     },
     "metadata": {},
     "output_type": "display_data"
    }
   ],
   "source": [
    "# SNR plot -- all the categories are predictive, \n",
    "# because their click rates differ by a statistically significant amount\n",
    "hs3=rawdata.groupby('dayoftheweek')['click'].count()\n",
    "hs4 = (hs1/hs2)*np.sqrt(hs3)\n",
    "hs4.plot(kind='barh', figsize=(6,6))\n"
   ]
  },
  {
   "cell_type": "code",
   "execution_count": null,
   "metadata": {},
   "outputs": [],
   "source": []
  }
 ],
 "metadata": {
  "kernelspec": {
   "display_name": "Python [conda env:xgboost]",
   "language": "python",
   "name": "conda-env-xgboost-py"
  },
  "language_info": {
   "codemirror_mode": {
    "name": "ipython",
    "version": 3
   },
   "file_extension": ".py",
   "mimetype": "text/x-python",
   "name": "python",
   "nbconvert_exporter": "python",
   "pygments_lexer": "ipython3",
   "version": "3.6.6"
  }
 },
 "nbformat": 4,
 "nbformat_minor": 2
}
